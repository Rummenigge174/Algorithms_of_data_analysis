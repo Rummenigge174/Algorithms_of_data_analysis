{
 "cells": [
  {
   "cell_type": "markdown",
   "metadata": {
    "id": "9IJSNIGumhs0"
   },
   "source": [
    "Исправить ошибку в коде"
   ]
  },
  {
   "cell_type": "markdown",
   "metadata": {},
   "source": [
    "for i in range(1000):\n",
    "    y_pred = np.dot(W, X)\n",
    "    err = calc_mse(y, y_pred)\n",
    "    W -= (alpha * (1/n * 2 * np.sum(X * (y_pred - y))))\n",
    "    if i % 100 == 0:\n",
    "        print(i, W, err)"
   ]
  },
  {
   "cell_type": "code",
   "execution_count": null,
   "metadata": {},
   "outputs": [],
   "source": [
    "После анализа кода было понято следующее:\n",
    "    Использую невекторные операции для вычисления весов, а сама переменная W является вектором значений весов,\n",
    "    то необходимо проитерировать для каждого признака входящего в вектор. Но так как мы избавляемся от итераций\n",
    "    по весам, то для корректного определения весов признаков необходимо перейти к векторным операциям.\n",
    "    Поэтому необходимо отредактировать строчку №4 и записать вычисление вектора весов через векторные операции"
   ]
  },
  {
   "cell_type": "code",
   "execution_count": null,
   "metadata": {},
   "outputs": [],
   "source": [
    "import numpy as np\n",
    "import matplotlib.pyplot as plt"
   ]
  },
  {
   "cell_type": "code",
   "execution_count": 111,
   "metadata": {
    "id": "ca7W5Oz9miLi"
   },
   "outputs": [],
   "source": [
    "np.random.seed(1234)"
   ]
  },
  {
   "cell_type": "code",
   "execution_count": 112,
   "metadata": {
    "id": "C5t9jUjumiIr"
   },
   "outputs": [],
   "source": [
    "# Возьмем 2 признака и 1000 объектов\n",
    "n_features = 2\n",
    "n_objects = 1000\n",
    "\n",
    "# сгенерируем вектор истинных весов\n",
    "w_true = np.random.normal(size=(n_features, ))\n",
    "\n",
    "# сгенерируем матрицу X, вычислим Y с добавлением случайного шума\n",
    "X = np.random.uniform(-7, 7, (n_objects, n_features))\n",
    "Y = X.dot(w_true) + np.random.normal(0, 0.5, size=(n_objects))\n",
    "\n",
    "# возьмем нулевые начальные веса\n",
    "w = np.zeros(n_features)\n",
    "# возьмем постоянный шаг \n",
    "alpha = 0.02\n",
    "\n",
    "w_list = []\n",
    "errors = []\n",
    "iter_num = 0"
   ]
  },
  {
   "cell_type": "code",
   "execution_count": 113,
   "metadata": {
    "id": "j-CSMw66nbc5"
   },
   "outputs": [],
   "source": [
    "def calc_mse(w, X, y_pred):\n",
    "    y = np.dot(X,w)\n",
    "    return (sum((y - y_pred)**2)) / len(y)"
   ]
  },
  {
   "cell_type": "code",
   "execution_count": 114,
   "metadata": {
    "colab": {
     "base_uri": "https://localhost:8080/",
     "height": 231
    },
    "id": "sm_zykermkZk",
    "outputId": "9ee22678-060e-4555-b301-6c3bc55df720"
   },
   "outputs": [
    {
     "name": "stdout",
     "output_type": "stream",
     "text": [
      "0 [0. 0.] 26.370797444846797\n",
      "100 [ 0.46622325 -1.18317886] 0.2413403112113867\n",
      "200 [ 0.46622325 -1.18317886] 0.2413403112113867\n",
      "300 [ 0.46622325 -1.18317886] 0.2413403112113867\n",
      "400 [ 0.46622325 -1.18317886] 0.2413403112113867\n",
      "500 [ 0.46622325 -1.18317886] 0.2413403112113867\n",
      "600 [ 0.46622325 -1.18317886] 0.2413403112113867\n",
      "700 [ 0.46622325 -1.18317886] 0.2413403112113867\n",
      "800 [ 0.46622325 -1.18317886] 0.2413403112113867\n",
      "900 [ 0.46622325 -1.18317886] 0.2413403112113867\n"
     ]
    }
   ],
   "source": [
    "for i in range(1000):\n",
    "    #y = X.dot(w)\n",
    "    err = calc_mse(w, X, Y)\n",
    "    new_w = w - (alpha * 2 * np.dot(X.T, (np.dot(X,w) - Y)))/len(Y)\n",
    "    if i % 100 == 0:\n",
    "        print(i, w, err)\n",
    "    w_list.append(new_w)\n",
    "    errors.append(err)\n",
    "    w = new_w\n",
    "    iter_num += 1\n",
    "w_list = np.array(w_list)"
   ]
  },
  {
   "cell_type": "code",
   "execution_count": 115,
   "metadata": {
    "id": "z4sRltXu-YWf"
   },
   "outputs": [
    {
     "data": {
      "image/png": "[encoded data removed]",
      "text/plain": [
       "<Figure size 936x432 with 1 Axes>"
      ]
     },
     "metadata": {
      "needs_background": "light"
     },
     "output_type": "display_data"
    }
   ],
   "source": [
    "# Визуализируем изменение весов (красной точкой обозначены истинные веса, сгенерированные вначале) \n",
    "\n",
    "plt.figure(figsize=(13, 6))\n",
    "plt.title(f'Gradient descent,  Step = {alpha}, Iterations = {iter_num}, MSE = {round(errors[-1], 4)}')\n",
    "plt.xlabel(r'$w_1$')\n",
    "plt.ylabel(r'$w_2$')\n",
    "\n",
    "plt.scatter(w_list[:, 0], w_list[:, 1])\n",
    "plt.scatter(w_true[0], w_true[1], c='r')\n",
    "plt.plot(w_list[:, 0], w_list[:, 1])\n",
    "\n",
    "plt.show()"
   ]
  }
 ],
 "metadata": {
  "colab": {
   "collapsed_sections": [],
   "name": "Копия блокнота \"Untitled8.ipynb\"",
   "provenance": []
  },
  "kernelspec": {
   "display_name": "Python 3",
   "language": "python",
   "name": "python3"
  },
  "language_info": {
   "codemirror_mode": {
    "name": "ipython",
    "version": 3
   },
   "file_extension": ".py",
   "mimetype": "text/x-python",
   "name": "python",
   "nbconvert_exporter": "python",
   "pygments_lexer": "ipython3",
   "version": "3.7.6"
  }
 },
 "nbformat": 4,
 "nbformat_minor": 1
}
